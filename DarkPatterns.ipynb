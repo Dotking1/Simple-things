{
  "nbformat": 4,
  "nbformat_minor": 0,
  "metadata": {
    "colab": {
      "provenance": [],
      "toc_visible": true,
      "authorship_tag": "ABX9TyNtZpSaMte5hNxKm2HTxQdR",
      "include_colab_link": true
    },
    "kernelspec": {
      "name": "python3",
      "display_name": "Python 3"
    },
    "language_info": {
      "name": "python"
    }
  },
  "cells": [
    {
      "cell_type": "markdown",
      "metadata": {
        "id": "view-in-github",
        "colab_type": "text"
      },
      "source": [
        "<a href=\"https://colab.research.google.com/github/Dotking1/Simple-things/blob/main/DarkPatterns.ipynb\" target=\"_parent\"><img src=\"https://colab.research.google.com/assets/colab-badge.svg\" alt=\"Open In Colab\"/></a>"
      ]
    },
    {
      "cell_type": "code",
      "execution_count": null,
      "metadata": {
        "id": "ahzhx86NAsH_"
      },
      "outputs": [],
      "source": [
        "import os\n",
        "os.environ['KAGGLE_CONFIG_DIR'] = '/content'"
      ]
    },
    {
      "cell_type": "code",
      "source": [
        "!pip install q kaggle"
      ],
      "metadata": {
        "collapsed": true,
        "id": "o1NuJmcqAtGf"
      },
      "execution_count": null,
      "outputs": []
    },
    {
      "cell_type": "code",
      "source": [
        "from google.colab import files\n",
        "import pandas as pd\n",
        "import  numpy as np\n",
        "from google.colab import autoviz\n",
        "import seaborn as sns\n",
        "from sklearn.model_selection import train_test_split\n",
        "from sklearn.feature_extraction.text import TfidfVectorizer\n",
        "from sklearn.naive_bayes import MultinomialNB\n",
        "from sklearn.pipeline import Pipeline\n"
      ],
      "metadata": {
        "id": "9CT4lVi3AtIP"
      },
      "execution_count": null,
      "outputs": []
    },
    {
      "cell_type": "code",
      "source": [],
      "metadata": {
        "id": "qGgF93OVO6Sg"
      },
      "execution_count": null,
      "outputs": []
    },
    {
      "cell_type": "code",
      "source": [
        "files.upload()"
      ],
      "metadata": {
        "id": "1VYsVbDzAtKy"
      },
      "execution_count": null,
      "outputs": []
    },
    {
      "cell_type": "code",
      "source": [
        "!mkdir ~/.kaggle"
      ],
      "metadata": {
        "id": "vRy9L3YJAtMd"
      },
      "execution_count": null,
      "outputs": []
    },
    {
      "cell_type": "code",
      "source": [
        "!cp kaggle.json ~/.kaggle/"
      ],
      "metadata": {
        "id": "eT9zC9dgAtOz"
      },
      "execution_count": null,
      "outputs": []
    },
    {
      "cell_type": "code",
      "source": [
        "!chmod 600 ~/.kaggle/kaggle.json"
      ],
      "metadata": {
        "id": "rUY5VhIUAtQ5"
      },
      "execution_count": null,
      "outputs": []
    },
    {
      "cell_type": "code",
      "source": [
        "!kaggle datasets download -d krishuppal/dark-patterns"
      ],
      "metadata": {
        "id": "Jxr70EcrAtTP"
      },
      "execution_count": null,
      "outputs": []
    },
    {
      "cell_type": "code",
      "source": [
        "! unzip /content/dark-patterns.zip"
      ],
      "metadata": {
        "id": "6f7PhVI1AtVA"
      },
      "execution_count": null,
      "outputs": []
    },
    {
      "cell_type": "code",
      "source": [
        "dataset=pd.read_csv(\"/content/dataset.csv\",encoding_errors='ignore')\n"
      ],
      "metadata": {
        "id": "fPj3T-v4GArv"
      },
      "execution_count": null,
      "outputs": []
    },
    {
      "cell_type": "code",
      "source": [
        "dataset.head()\n",
        "\n"
      ],
      "metadata": {
        "id": "e0x4da8lGA04"
      },
      "execution_count": null,
      "outputs": []
    },
    {
      "cell_type": "code",
      "source": [
        "dataset.info()\n"
      ],
      "metadata": {
        "id": "heqvyu_BGA9E"
      },
      "execution_count": null,
      "outputs": []
    },
    {
      "cell_type": "code",
      "source": [],
      "metadata": {
        "id": "DlsXjLFBIzdL"
      },
      "execution_count": null,
      "outputs": []
    },
    {
      "cell_type": "markdown",
      "source": [
        "# **ML MODEL**"
      ],
      "metadata": {
        "id": "bjz2s830I1px"
      }
    },
    {
      "cell_type": "code",
      "source": [
        "df=pd.read_csv(\"/content/dataset.csv\")"
      ],
      "metadata": {
        "id": "1b8BwtNHI0IX"
      },
      "execution_count": null,
      "outputs": []
    },
    {
      "cell_type": "code",
      "source": [
        "df"
      ],
      "metadata": {
        "id": "QZYBUlnnI0Qh"
      },
      "execution_count": null,
      "outputs": []
    },
    {
      "cell_type": "markdown",
      "source": [
        "## **Data Preparation**"
      ],
      "metadata": {
        "id": "hQxSGGtcJ5e7"
      }
    },
    {
      "cell_type": "markdown",
      "source": [
        "### **Data prep as x and y**"
      ],
      "metadata": {
        "id": "jKurXc_nKIv3"
      }
    },
    {
      "cell_type": "code",
      "source": [
        "y=df['Pattern Category']"
      ],
      "metadata": {
        "id": "xYUOpNukI0bH"
      },
      "execution_count": null,
      "outputs": []
    },
    {
      "cell_type": "code",
      "source": [],
      "metadata": {
        "id": "JyVF2X6zI0eT"
      },
      "execution_count": null,
      "outputs": []
    },
    {
      "cell_type": "code",
      "source": [
        "x=df.drop('Pattern Category',axis=1)"
      ],
      "metadata": {
        "id": "6W_nak1XI0hc"
      },
      "execution_count": null,
      "outputs": []
    },
    {
      "cell_type": "code",
      "source": [
        "x=df['text']\n",
        "\n"
      ],
      "metadata": {
        "id": "2kRLH_YmI0kc"
      },
      "execution_count": null,
      "outputs": []
    },
    {
      "cell_type": "code",
      "source": [
        "x_train,x_test,y_train,y_test=train_test_split(x,y,test_size=0.2,random_state=100)\n"
      ],
      "metadata": {
        "id": "aXYBkHCSMsZp"
      },
      "execution_count": null,
      "outputs": []
    },
    {
      "cell_type": "code",
      "source": [
        "text_clf=Pipeline([('tfidf',TfidfVectorizer()),('clf',MultinomialNB())])"
      ],
      "metadata": {
        "id": "j7YACEy1MscJ"
      },
      "execution_count": null,
      "outputs": []
    },
    {
      "cell_type": "code",
      "source": [
        "text_clf.fit(x_train, y_train)\n",
        "\n"
      ],
      "metadata": {
        "id": "43dz180EMsfZ"
      },
      "execution_count": null,
      "outputs": []
    },
    {
      "cell_type": "code",
      "source": [
        "from sklearn.metrics import classification_report, accuracy_score\n",
        "predictions = text_clf.predict(x_test)\n",
        "print(classification_report(y_test, predictions))\n",
        "print(f\"Accuracy: {accuracy_score(y_test, predictions)}\")\n",
        "\n"
      ],
      "metadata": {
        "id": "PGsz33XNMshq"
      },
      "execution_count": null,
      "outputs": []
    },
    {
      "cell_type": "code",
      "source": [
        "#new_text = ['Jacket!', 'come here ', 'No can do.']\n",
        "#new_predictions = text_clf.predict(new_text)\n",
        "#int(f\"Predictions for new text: {new_predictions}\")\n"
      ],
      "metadata": {
        "id": "Bp1vJUMIMslb"
      },
      "execution_count": null,
      "outputs": []
    },
    {
      "cell_type": "code",
      "source": [],
      "metadata": {
        "id": "ZYrKEi6yVSlR"
      },
      "execution_count": null,
      "outputs": []
    }
  ]
}