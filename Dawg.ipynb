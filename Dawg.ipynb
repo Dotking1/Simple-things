{
  "cells": [
    {
      "cell_type": "markdown",
      "metadata": {
        "id": "view-in-github",
        "colab_type": "text"
      },
      "source": [
        "<a href=\"https://colab.research.google.com/github/Dotking1/Simple-things/blob/main/Dawg.ipynb\" target=\"_parent\"><img src=\"https://colab.research.google.com/assets/colab-badge.svg\" alt=\"Open In Colab\"/></a>"
      ]
    },
    {
      "cell_type": "markdown",
      "metadata": {
        "id": "gKzC0ja8jZMg"
      },
      "source": [
        "## **Inputting data**"
      ]
    },
    {
      "cell_type": "code",
      "execution_count": null,
      "metadata": {
        "id": "AnnLY-VcjmTo"
      },
      "outputs": [],
      "source": [
        "import tensorflow as tf\n"
      ]
    },
    {
      "cell_type": "code",
      "execution_count": null,
      "metadata": {
        "collapsed": true,
        "id": "pG6qQdinxvYB"
      },
      "outputs": [],
      "source": [
        "!pip install tensorflow matplotlib opencv-python pillow"
      ]
    },
    {
      "cell_type": "code",
      "execution_count": null,
      "metadata": {
        "collapsed": true,
        "id": "n2kHOde1x7m_"
      },
      "outputs": [],
      "source": []
    },
    {
      "cell_type": "code",
      "execution_count": null,
      "metadata": {
        "id": "NBT6zIe-jyH4"
      },
      "outputs": [],
      "source": [
        "scam=[\"confirmshaming\",\"friendspam\"]"
      ]
    },
    {
      "cell_type": "code",
      "execution_count": null,
      "metadata": {
        "id": "3OnK5LYwUKHc"
      },
      "outputs": [],
      "source": [
        "from google.colab import drive\n",
        "drive.mount('/content/drive')"
      ]
    },
    {
      "cell_type": "code",
      "execution_count": null,
      "metadata": {
        "collapsed": true,
        "id": "BWLJpKaVvlhK"
      },
      "outputs": [],
      "source": [
        "image_dir=\"/content/drive/MyDrive/train\""
      ]
    },
    {
      "cell_type": "code",
      "execution_count": null,
      "metadata": {
        "id": "qYJpkxzAmcNi"
      },
      "outputs": [],
      "source": [
        "args={\"labels\":\"inferred\",\"label_mode\":\"categorical\",\"batch_size\":6,\"image_size\":(256,256),\"seed\":1,\"validation_split\":.3,\"class_names\":scam}\n"
      ]
    },
    {
      "cell_type": "code",
      "execution_count": null,
      "metadata": {
        "collapsed": true,
        "id": "0-YkMEXEnqlL"
      },
      "outputs": [],
      "source": [
        "train=tf.keras.utils.image_dataset_from_directory(image_dir,\n",
        "                                            subset=\"training\",\n",
        "                                            **args)"
      ]
    },
    {
      "cell_type": "code",
      "execution_count": null,
      "metadata": {
        "collapsed": true,
        "id": "PAqGbBOAuX3q"
      },
      "outputs": [],
      "source": [
        "test=tf.keras.utils.image_dataset_from_directory(image_dir,\n",
        "                                            subset=\"validation\",\n",
        "                                            **args)"
      ]
    },
    {
      "cell_type": "code",
      "execution_count": null,
      "metadata": {
        "id": "5cyKXVT8WhQ3"
      },
      "outputs": [],
      "source": [
        "train\n"
      ]
    },
    {
      "cell_type": "markdown",
      "metadata": {
        "id": "eNxd8C_bss8q"
      },
      "source": []
    },
    {
      "cell_type": "markdown",
      "metadata": {
        "id": "Twgjf-ywXEaU"
      },
      "source": [
        "  ## ***Loading data into tensor flow***"
      ]
    },
    {
      "cell_type": "code",
      "execution_count": null,
      "metadata": {
        "id": "cHpRK7smXJa9"
      },
      "outputs": [],
      "source": [
        "first=train.take(1)\n",
        "first"
      ]
    },
    {
      "cell_type": "code",
      "execution_count": null,
      "metadata": {
        "id": "bv_OFZxWZzyd"
      },
      "outputs": [],
      "source": [
        "images,labels=list(first)[0]\n",
        "first_image=images[0]"
      ]
    },
    {
      "cell_type": "code",
      "execution_count": null,
      "metadata": {
        "collapsed": true,
        "id": "mlowIQXwaa66"
      },
      "outputs": [],
      "source": [
        "first_image\n"
      ]
    },
    {
      "cell_type": "code",
      "execution_count": null,
      "metadata": {
        "id": "5haZfvLPlsFK"
      },
      "outputs": [],
      "source": [
        "first_image[:3,:3,0]"
      ]
    },
    {
      "cell_type": "code",
      "execution_count": null,
      "metadata": {
        "id": "2WYnVvfWf8VQ"
      },
      "outputs": [],
      "source": [
        "from PIL import Image\n",
        "Image.fromarray(images[0].numpy().astype('uint8'))\n"
      ]
    },
    {
      "cell_type": "code",
      "execution_count": null,
      "metadata": {
        "id": "oSCjf-18hHfI"
      },
      "outputs": [],
      "source": [
        "labels[0]\n"
      ]
    },
    {
      "cell_type": "code",
      "execution_count": null,
      "metadata": {
        "id": "GRPWWByXhIRa"
      },
      "outputs": [],
      "source": [
        "train=train.cache().prefetch(buffer_size=tf.data.AUTOTUNE)\n",
        "test=test.cache().prefetch(buffer_size=tf.data.AUTOTUNE)"
      ]
    },
    {
      "cell_type": "markdown",
      "metadata": {
        "id": "ZbRxL1KChy77"
      },
      "source": []
    },
    {
      "cell_type": "markdown",
      "metadata": {
        "id": "Hm5Jzl8dm4MY"
      },
      "source": []
    },
    {
      "cell_type": "markdown",
      "metadata": {
        "id": "H-6q1MxWm4r4"
      },
      "source": []
    },
    {
      "cell_type": "markdown",
      "metadata": {
        "id": "i7KlRhltiIYP"
      },
      "source": [
        "   ## **Training an initial layer**##"
      ]
    },
    {
      "cell_type": "code",
      "execution_count": null,
      "metadata": {
        "id": "mV8sAIf3iVeq"
      },
      "outputs": [],
      "source": [
        "from tensorflow.keras import layers\n",
        "from tensorflow.keras.models import Sequential\n",
        "model=Sequential([\n",
        "      layers.Rescaling(1./255),\n",
        "      layers.Conv2D(16,3,padding=\"same\",activation=\"relu\",input_shape=(256,256,3)),\n",
        "      layers.Flatten(),\n",
        "      layers.Dense(128,activation=\"relu\"),\n",
        "      layers.Dense(len(scam))\n",
        "\n",
        "\n",
        "\n",
        "])"
      ]
    },
    {
      "cell_type": "code",
      "execution_count": null,
      "metadata": {
        "id": "XcaAooge1im_"
      },
      "outputs": [],
      "source": [
        "model.compile(optimizer='adam',\n",
        "              loss=tf.keras.losses.CategoricalCrossentropy(from_logits=True),\n",
        "              metrics=[\"accuracy\"])"
      ]
    },
    {
      "cell_type": "code",
      "execution_count": null,
      "metadata": {
        "collapsed": true,
        "id": "9j5R8enf3Zpa"
      },
      "outputs": [],
      "source": [
        "history=model.fit(train,\n",
        "                  validation_data=test,\n",
        "                  epochs=8,\n",
        "                  verbose=1)\n"
      ]
    },
    {
      "cell_type": "code",
      "execution_count": null,
      "metadata": {
        "id": "xrdG3adI6GIS"
      },
      "outputs": [],
      "source": [
        "model.summary()\n"
      ]
    },
    {
      "cell_type": "code",
      "execution_count": null,
      "metadata": {
        "id": "ZQ6BnM2l73IL"
      },
      "outputs": [],
      "source": [
        "import pandas as pd\n",
        "history_df=pd.DataFrame.from_dict(history.history)\n",
        "history_df[[\"accuracy\",\"val_accuracy\"]].plot()\n",
        "\n"
      ]
    },
    {
      "cell_type": "code",
      "execution_count": null,
      "metadata": {
        "id": "uq8PiG4_9LsD"
      },
      "outputs": [],
      "source": [
        "def train_model(network,epochs=6):\n",
        "    model=Sequential(network)\n",
        "    model.compile(optimizer='adam',\n",
        "              loss=tf.keras.losses.CategoricalCrossentropy(from_logits=True),\n",
        "              metrics=[\"accuracy\"])\n",
        "    history=model.fit(train,\n",
        "                  validation_data=test,\n",
        "                  epochs=epochs,\n",
        "    )\n",
        "    history_df=pd.DataFrame.from_dict(history.history)\n",
        "    ##history_df[[\"accuracy\",\"val_accuracy\"]].plot()\n",
        "    return history_df,model\n"
      ]
    },
    {
      "cell_type": "code",
      "execution_count": null,
      "metadata": {
        "id": "a5soiTq6-J9i"
      },
      "outputs": [],
      "source": [
        "network=([\n",
        "      tf.keras.layers.Rescaling(1./255),\n",
        "      layers.Conv2D(16,4,padding=\"same\",activation=\"relu\",input_shape=(256,256,3)),\n",
        "\n",
        "      layers.MaxPooling2D(),\n",
        "      layers.Conv2D(32,4,padding=\"same\",activation=\"relu\",input_shape=(256,256,3)),\n",
        "      layers.MaxPooling2D(),\n",
        "      layers.Conv2D(64,4,padding=\"same\",activation=\"relu\",input_shape=(256,256,3)),\n",
        "      layers.MaxPooling2D(),\n",
        "      layers.Dropout(.2),\n",
        "      layers.Flatten(),\n",
        "      layers.Dense(128,activation=\"relu\"),\n",
        "      layers.Dense(len(scam))\n",
        "\n",
        "\n",
        "\n",
        "])\n",
        "history_df,model=train_model(network)"
      ]
    },
    {
      "cell_type": "code",
      "execution_count": null,
      "metadata": {
        "id": "-TWCyuiv-Li7"
      },
      "outputs": [],
      "source": [
        "history_df[[\"accuracy\",\"val_accuracy\"]].plot()\n"
      ]
    },
    {
      "cell_type": "markdown",
      "metadata": {
        "id": "8MsZCgXXPeDH"
      },
      "source": [
        "## **Augmenting Data**"
      ]
    },
    {
      "cell_type": "code",
      "execution_count": null,
      "metadata": {
        "id": "dyY7NaYYPoNn"
      },
      "outputs": [],
      "source": [
        "data_augmentation=tf.keras.Sequential([\n",
        "    layers.RandomFlip(\"horizontal\",seed=1),\n",
        "    layers.RandomRotation(.2,seed=1),\n",
        "    layers.RandomZoom(.2,seed=1)\n",
        "\n",
        "\n",
        "\n",
        "\n",
        "\n",
        "\n",
        "] )"
      ]
    },
    {
      "cell_type": "code",
      "execution_count": null,
      "metadata": {
        "id": "JUB0StEwSceC"
      },
      "outputs": [],
      "source": [
        "history_df[[\"accuracy\",\"val_accuracy\"]].plot()"
      ]
    },
    {
      "cell_type": "code",
      "execution_count": null,
      "metadata": {
        "id": "-tp6nDySSmNs"
      },
      "outputs": [],
      "source": []
    },
    {
      "cell_type": "markdown",
      "metadata": {
        "id": "YuIH0ZHhSmpl"
      },
      "source": [
        "## **Checking for errors**"
      ]
    },
    {
      "cell_type": "code",
      "execution_count": null,
      "metadata": {
        "collapsed": true,
        "id": "oI7zCnc4SsB7"
      },
      "outputs": [],
      "source": [
        "preds=model.predict(test)\n",
        "\n"
      ]
    },
    {
      "cell_type": "code",
      "execution_count": null,
      "metadata": {
        "collapsed": true,
        "id": "BZEwH2vmS4hz"
      },
      "outputs": [],
      "source": [
        "preds\n",
        "\n"
      ]
    },
    {
      "cell_type": "code",
      "execution_count": null,
      "metadata": {
        "id": "avbB3TUPS9en"
      },
      "outputs": [],
      "source": [
        "import numpy as np\n",
        "predicted_class=np.argmax(preds,axis=1)"
      ]
    },
    {
      "cell_type": "code",
      "execution_count": null,
      "metadata": {
        "collapsed": true,
        "id": "Y8X8voENUPk1"
      },
      "outputs": [],
      "source": [
        "predicted_class\n"
      ]
    },
    {
      "cell_type": "code",
      "execution_count": null,
      "metadata": {
        "id": "ZXxrlAINU6w1"
      },
      "outputs": [],
      "source": [
        "actual_labels=np.concatenate([y for x,y in test],axis=0)"
      ]
    },
    {
      "cell_type": "code",
      "execution_count": null,
      "metadata": {
        "collapsed": true,
        "id": "OSs1iqQkU650"
      },
      "outputs": [],
      "source": [
        "actual_labels\n"
      ]
    },
    {
      "cell_type": "code",
      "execution_count": null,
      "metadata": {
        "id": "T_p7QhcXU7Ax"
      },
      "outputs": [],
      "source": [
        "actual_class=np.argmax(actual_labels,axis=1)"
      ]
    },
    {
      "cell_type": "code",
      "execution_count": null,
      "metadata": {
        "collapsed": true,
        "id": "awDvslZWU7FA"
      },
      "outputs": [],
      "source": [
        "actual_class"
      ]
    },
    {
      "cell_type": "code",
      "execution_count": null,
      "metadata": {
        "id": "3_OfkN1JU7II"
      },
      "outputs": [],
      "source": [
        "import itertools\n",
        "\n",
        "actual_image=[x.numpy().astype(\"uint8\") for x,y in test]\n",
        "actual_image=list(itertools.chain.from_iterable(actual_image))\n",
        "actual_image=[Image.fromarray(a) for a in actual_image]\n"
      ]
    },
    {
      "cell_type": "code",
      "execution_count": null,
      "metadata": {
        "id": "ewYQLGLEYjJ5"
      },
      "outputs": [],
      "source": [
        "#!pip install Pillow\n",
        "#from PIL import Image\n",
        "#actual_image=[Image.fromarray(a) for a in actual_image]\n",
        "#actual_image=list"
      ]
    },
    {
      "cell_type": "code",
      "execution_count": null,
      "metadata": {
        "id": "SFvsjRnHZbW8"
      },
      "outputs": [],
      "source": [
        "pred_df=pd.DataFrame(zip(predicted_class,actual_class,actual_image),columns=[\"prediction\",\"actual\",\"image\"])"
      ]
    },
    {
      "cell_type": "code",
      "execution_count": null,
      "metadata": {
        "id": "6NYeCr_1aejR"
      },
      "outputs": [],
      "source": [
        "pred_df[\"prediction\"]=pred_df[\"prediction\"].apply(lambda x: scam[x])\n",
        "pred_df[\"actual\"]=pred_df[\"actual\"].apply(lambda x:scam[x])"
      ]
    },
    {
      "cell_type": "code",
      "execution_count": null,
      "metadata": {
        "id": "-ONCEDwCafBd"
      },
      "outputs": [],
      "source": [
        "pred_df.head()"
      ]
    },
    {
      "cell_type": "code",
      "execution_count": null,
      "metadata": {
        "id": "KMULwfxzafbd"
      },
      "outputs": [],
      "source": [
        "import base64\n",
        "import io\n",
        "from PIL import Image\n",
        "import cv2\n",
        "import pandas as pd\n",
        "\n",
        "def image_formatter(img):\n",
        "    with io.BytesIO() as buffer:\n",
        "        img.save(buffer,format='png')\n",
        "        img_str=base64.b64encode(buffer.getvalue()).decode()\n",
        "        return f'<img src=\"data:image/jpeg;base64,{img_str}\">'\n",
        "\n",
        "pred_df.head(10).style.format({'image':image_formatter})\n",
        "#cv2.imwrite(path,img_to_save)"
      ]
    }
  ],
  "metadata": {
    "colab": {
      "collapsed_sections": [
        "Twgjf-ywXEaU",
        "i7KlRhltiIYP"
      ],
      "toc_visible": true,
      "provenance": [],
      "authorship_tag": "ABX9TyPzRfPc5+y1jKWav8MBxytQ",
      "include_colab_link": true
    },
    "kernelspec": {
      "display_name": "Python 3",
      "name": "python3"
    },
    "language_info": {
      "name": "python"
    }
  },
  "nbformat": 4,
  "nbformat_minor": 0
}